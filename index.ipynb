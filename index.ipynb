{
 "cells": [
  {
   "cell_type": "markdown",
   "metadata": {},
   "source": [
    "# Accessing Data within Pandas - Lab"
   ]
  },
  {
   "cell_type": "markdown",
   "metadata": {},
   "source": [
    "## Introduction\n",
    "\n",
    "In this lab, we'll look at a dataset which contains information on World Cup matches. Let's use the Pandas commands learned in the previous lesson to learn more about our data!"
   ]
  },
  {
   "cell_type": "markdown",
   "metadata": {},
   "source": [
    "## Objectives\n",
    "You will be able to: \n",
    "- Use pandas methods and attributes to access information about a dataset \n",
    "- Index pandas dataframes with .loc, .iloc, and column names \n",
    "- Use a boolean mask to index pandas series and dataframes"
   ]
  },
  {
   "cell_type": "markdown",
   "metadata": {},
   "source": [
    "## Load the data"
   ]
  },
  {
   "cell_type": "markdown",
   "metadata": {},
   "source": [
    "Load the file `'WorldCupMatches.csv'` as a DataFrame in Pandas."
   ]
  },
  {
   "cell_type": "code",
   "execution_count": 2,
   "metadata": {},
   "outputs": [],
   "source": [
    "# Import pandas using the standard alias\n",
    "import pandas as pd \n",
    "\n",
    "# Import 'WorldCupMatches.csv' as a DataFrame\n",
    "df = pd.read_csv('WorldCupMatches.csv')"
   ]
  },
  {
   "cell_type": "markdown",
   "metadata": {},
   "source": [
    "## Common methods and attributes"
   ]
  },
  {
   "cell_type": "markdown",
   "metadata": {},
   "source": [
    "Use the correct method to look at the first 7 rows of the dataset."
   ]
  },
  {
   "cell_type": "code",
   "execution_count": 3,
   "metadata": {},
   "outputs": [
    {
     "name": "stdout",
     "output_type": "stream",
     "text": [
      "   Year              Datetime    Stage         Stadium         City  \\\n",
      "0  1930  13 Jul 1930 - 15:00   Group 1         Pocitos  Montevideo    \n",
      "1  1930  13 Jul 1930 - 15:00   Group 4  Parque Central  Montevideo    \n",
      "2  1930  14 Jul 1930 - 12:45   Group 2  Parque Central  Montevideo    \n",
      "3  1930  14 Jul 1930 - 14:50   Group 3         Pocitos  Montevideo    \n",
      "4  1930  15 Jul 1930 - 16:00   Group 1  Parque Central  Montevideo    \n",
      "5  1930  16 Jul 1930 - 14:45   Group 1  Parque Central  Montevideo    \n",
      "6  1930  17 Jul 1930 - 12:45   Group 2  Parque Central  Montevideo    \n",
      "\n",
      "  Home Team Name  Home Team Goals  Away Team Goals Away Team Name  \\\n",
      "0         France                4                1         Mexico   \n",
      "1            USA                3                0        Belgium   \n",
      "2     Yugoslavia                2                1         Brazil   \n",
      "3        Romania                3                1           Peru   \n",
      "4      Argentina                1                0         France   \n",
      "5          Chile                3                0         Mexico   \n",
      "6     Yugoslavia                4                0        Bolivia   \n",
      "\n",
      "  Win conditions  Attendance  Half-time Home Goals  Half-time Away Goals  \\\n",
      "0                     4444.0                     3                     0   \n",
      "1                    18346.0                     2                     0   \n",
      "2                    24059.0                     2                     0   \n",
      "3                     2549.0                     1                     0   \n",
      "4                    23409.0                     0                     0   \n",
      "5                     9249.0                     1                     0   \n",
      "6                    18306.0                     0                     0   \n",
      "\n",
      "                    Referee               Assistant 1  \\\n",
      "0    LOMBARDI Domingo (URU)     CRISTOPHE Henry (BEL)   \n",
      "1         MACIAS Jose (ARG)  MATEUCCI Francisco (URU)   \n",
      "2       TEJADA Anibal (URU)   VALLARINO Ricardo (URU)   \n",
      "3     WARNKEN Alberto (CHI)       LANGENUS Jean (BEL)   \n",
      "4       REGO Gilberto (BRA)      SAUCEDO Ulises (BOL)   \n",
      "5     CRISTOPHE Henry (BEL)   APHESTEGUY Martin (URU)   \n",
      "6  MATEUCCI Francisco (URU)    LOMBARDI Domingo (URU)   \n",
      "\n",
      "                  Assistant 2  RoundID  MatchID Home Team Initials  \\\n",
      "0         REGO Gilberto (BRA)      201     1096                FRA   \n",
      "1       WARNKEN Alberto (CHI)      201     1090                USA   \n",
      "2         BALWAY Thomas (FRA)      201     1093                YUG   \n",
      "3    MATEUCCI Francisco (URU)      201     1098                ROU   \n",
      "4  RADULESCU Constantin (ROU)      201     1085                ARG   \n",
      "5         LANGENUS Jean (BEL)      201     1095                CHI   \n",
      "6       WARNKEN Alberto (CHI)      201     1092                YUG   \n",
      "\n",
      "  Away Team Initials  \n",
      "0                MEX  \n",
      "1                BEL  \n",
      "2                BRA  \n",
      "3                PER  \n",
      "4                FRA  \n",
      "5                MEX  \n",
      "6                BOL  \n"
     ]
    }
   ],
   "source": [
    "# Print the first 7 rows of df\n",
    "print(df.head(7))"
   ]
  },
  {
   "cell_type": "markdown",
   "metadata": {},
   "source": [
    "Look at the last 3 rows of the data set."
   ]
  },
  {
   "cell_type": "code",
   "execution_count": 4,
   "metadata": {},
   "outputs": [
    {
     "name": "stdout",
     "output_type": "stream",
     "text": [
      "     Year              Datetime                     Stage  \\\n",
      "849  2014  09 Jul 2014 - 17:00                Semi-finals   \n",
      "850  2014  12 Jul 2014 - 17:00   Play-off for third place   \n",
      "851  2014  13 Jul 2014 - 16:00                      Final   \n",
      "\n",
      "                 Stadium             City Home Team Name  Home Team Goals  \\\n",
      "849   Arena de Sao Paulo       Sao Paulo     Netherlands                0   \n",
      "850     Estadio Nacional        Brasilia          Brazil                0   \n",
      "851  Estadio do Maracana  Rio De Janeiro         Germany                1   \n",
      "\n",
      "     Away Team Goals Away Team Name                       Win conditions  \\\n",
      "849                0      Argentina  Argentina win on penalties (2 - 4)    \n",
      "850                3    Netherlands                                        \n",
      "851                0      Argentina        Germany win after extra time    \n",
      "\n",
      "     Attendance  Half-time Home Goals  Half-time Away Goals  \\\n",
      "849     63267.0                     0                     0   \n",
      "850     68034.0                     0                     2   \n",
      "851     74738.0                     0                     0   \n",
      "\n",
      "                   Referee            Assistant 1              Assistant 2  \\\n",
      "849     C�neyt �AKIR (TUR)   DURAN Bahattin (TUR)        ONGUN Tarik (TUR)   \n",
      "850  HAIMOUDI Djamel (ALG)   ACHIK Redouane (MAR)  ETCHIALI Abdelhak (ALG)   \n",
      "851   Nicola RIZZOLI (ITA)  Renato FAVERANI (ITA)     Andrea STEFANI (ITA)   \n",
      "\n",
      "     RoundID    MatchID Home Team Initials Away Team Initials  \n",
      "849   255955  300186490                NED                ARG  \n",
      "850   255957  300186502                BRA                NED  \n",
      "851   255959  300186501                GER                ARG  \n"
     ]
    }
   ],
   "source": [
    "# Print the last 3 rows of df\n",
    "print(df.tail(3))"
   ]
  },
  {
   "cell_type": "markdown",
   "metadata": {},
   "source": [
    "Get a concise summary of the data using `.info()`. "
   ]
  },
  {
   "cell_type": "code",
   "execution_count": 5,
   "metadata": {},
   "outputs": [
    {
     "name": "stdout",
     "output_type": "stream",
     "text": [
      "<class 'pandas.core.frame.DataFrame'>\n",
      "RangeIndex: 852 entries, 0 to 851\n",
      "Data columns (total 20 columns):\n",
      "Year                    852 non-null int64\n",
      "Datetime                852 non-null object\n",
      "Stage                   852 non-null object\n",
      "Stadium                 852 non-null object\n",
      "City                    852 non-null object\n",
      "Home Team Name          852 non-null object\n",
      "Home Team Goals         852 non-null int64\n",
      "Away Team Goals         852 non-null int64\n",
      "Away Team Name          852 non-null object\n",
      "Win conditions          852 non-null object\n",
      "Attendance              850 non-null float64\n",
      "Half-time Home Goals    852 non-null int64\n",
      "Half-time Away Goals    852 non-null int64\n",
      "Referee                 852 non-null object\n",
      "Assistant 1             852 non-null object\n",
      "Assistant 2             852 non-null object\n",
      "RoundID                 852 non-null int64\n",
      "MatchID                 852 non-null int64\n",
      "Home Team Initials      852 non-null object\n",
      "Away Team Initials      852 non-null object\n",
      "dtypes: float64(1), int64(7), object(12)\n",
      "memory usage: 133.2+ KB\n",
      "None\n"
     ]
    }
   ],
   "source": [
    "# Print a concise summary of df\n",
    "print(df.info())"
   ]
  },
  {
   "cell_type": "markdown",
   "metadata": {},
   "source": [
    "Obtain a tuple representing the number of rows and number of columns"
   ]
  },
  {
   "cell_type": "code",
   "execution_count": 6,
   "metadata": {},
   "outputs": [
    {
     "name": "stdout",
     "output_type": "stream",
     "text": [
      "(852, 20)\n"
     ]
    }
   ],
   "source": [
    "# Print the number of rows and columns in df\n",
    "print(df.shape)"
   ]
  },
  {
   "cell_type": "markdown",
   "metadata": {},
   "source": [
    "Use the appropriate attribute to get the column names"
   ]
  },
  {
   "cell_type": "code",
   "execution_count": 7,
   "metadata": {},
   "outputs": [
    {
     "name": "stdout",
     "output_type": "stream",
     "text": [
      "Index(['Year', 'Datetime', 'Stage', 'Stadium', 'City', 'Home Team Name',\n",
      "       'Home Team Goals', 'Away Team Goals', 'Away Team Name',\n",
      "       'Win conditions', 'Attendance', 'Half-time Home Goals',\n",
      "       'Half-time Away Goals', 'Referee', 'Assistant 1', 'Assistant 2',\n",
      "       'RoundID', 'MatchID', 'Home Team Initials', 'Away Team Initials'],\n",
      "      dtype='object')\n"
     ]
    }
   ],
   "source": [
    "# Print the column names of df\n",
    "print(df.columns)"
   ]
  },
  {
   "cell_type": "markdown",
   "metadata": {},
   "source": [
    "## Selecting DataFrame information"
   ]
  },
  {
   "cell_type": "markdown",
   "metadata": {},
   "source": [
    "When looking at the DataFrame's `.head()`, you might have noticed that the games are structured chronologically in the DataFrame.\n",
    "\n",
    "Use the right selection method to print all the information from the 3rd to the 5th game."
   ]
  },
  {
   "cell_type": "code",
   "execution_count": 8,
   "metadata": {},
   "outputs": [
    {
     "name": "stdout",
     "output_type": "stream",
     "text": [
      "   Year              Datetime    Stage         Stadium         City  \\\n",
      "3  1930  14 Jul 1930 - 14:50   Group 3         Pocitos  Montevideo    \n",
      "4  1930  15 Jul 1930 - 16:00   Group 1  Parque Central  Montevideo    \n",
      "5  1930  16 Jul 1930 - 14:45   Group 1  Parque Central  Montevideo    \n",
      "\n",
      "  Home Team Name  Home Team Goals  Away Team Goals Away Team Name  \\\n",
      "3        Romania                3                1           Peru   \n",
      "4      Argentina                1                0         France   \n",
      "5          Chile                3                0         Mexico   \n",
      "\n",
      "  Win conditions  Attendance  Half-time Home Goals  Half-time Away Goals  \\\n",
      "3                     2549.0                     1                     0   \n",
      "4                    23409.0                     0                     0   \n",
      "5                     9249.0                     1                     0   \n",
      "\n",
      "                 Referee              Assistant 1                 Assistant 2  \\\n",
      "3  WARNKEN Alberto (CHI)      LANGENUS Jean (BEL)    MATEUCCI Francisco (URU)   \n",
      "4    REGO Gilberto (BRA)     SAUCEDO Ulises (BOL)  RADULESCU Constantin (ROU)   \n",
      "5  CRISTOPHE Henry (BEL)  APHESTEGUY Martin (URU)         LANGENUS Jean (BEL)   \n",
      "\n",
      "   RoundID  MatchID Home Team Initials Away Team Initials  \n",
      "3      201     1098                ROU                PER  \n",
      "4      201     1085                ARG                FRA  \n",
      "5      201     1095                CHI                MEX  \n"
     ]
    }
   ],
   "source": [
    "# Print rows 3 through 5\n",
    "print(df.iloc[3:6])"
   ]
  },
  {
   "cell_type": "markdown",
   "metadata": {},
   "source": [
    "Now, print all the info from game 5-9, but we're only interested in printing out the, \"Home Team Name\" and the, \"Away Team Name.\" "
   ]
  },
  {
   "cell_type": "code",
   "execution_count": 9,
   "metadata": {},
   "outputs": [
    {
     "name": "stdout",
     "output_type": "stream",
     "text": [
      "  Home Team Name Away Team Name\n",
      "5          Chile         Mexico\n",
      "6     Yugoslavia        Bolivia\n",
      "7            USA       Paraguay\n",
      "8        Uruguay           Peru\n",
      "9          Chile         France\n"
     ]
    }
   ],
   "source": [
    "# Print rows 5 through 9 and columns 'Home Team Name' and 'Away Team Name'\n",
    "print(df.loc[5:9, ['Home Team Name', 'Away Team Name']])"
   ]
  },
  {
   "cell_type": "markdown",
   "metadata": {},
   "source": [
    "Next, we'd like the information on all the games played in Group 3 for the 1950 World Cup."
   ]
  },
  {
   "cell_type": "code",
   "execution_count": 22,
   "metadata": {},
   "outputs": [
    {
     "name": "stdout",
     "output_type": "stream",
     "text": [
      "    Year              Datetime    Stage           Stadium        City  \\\n",
      "56  1950  25 Jun 1950 - 15:00   Group 3          Pacaembu  Sao Paulo    \n",
      "61  1950  29 Jun 1950 - 15:30   Group 3  Durival de Brito   Curitiba    \n",
      "65  1950  02 Jul 1950 - 15:00   Group 3          Pacaembu  Sao Paulo    \n",
      "\n",
      "   Home Team Name  Home Team Goals  Away Team Goals Away Team Name  \\\n",
      "56         Sweden                3                2          Italy   \n",
      "61         Sweden                2                2       Paraguay   \n",
      "65          Italy                2                0       Paraguay   \n",
      "\n",
      "   Win conditions  Attendance  Half-time Home Goals  Half-time Away Goals  \\\n",
      "56                    36502.0                     2                     1   \n",
      "61                     7903.0                     2                     1   \n",
      "65                    25811.0                     1                     0   \n",
      "\n",
      "                  Referee             Assistant 1                Assistant 2  \\\n",
      "56        LUTZ Jean (SUI)     BERANEK Alois (AUT)        TEJADA Carlos (MEX)   \n",
      "61  MITCHELL Robert (SCO)       LEMESIC Leo (YUG)     GARCIA Prudencio (USA)   \n",
      "65     ELLIS Arthur (ENG)  GARCIA Prudencio (USA)  DE LA SALLE Charles (FRA)   \n",
      "\n",
      "    RoundID  MatchID Home Team Initials Away Team Initials  \n",
      "56      208     1219                SWE                ITA  \n",
      "61      208     1228                SWE                PAR  \n",
      "65      208     1218                ITA                PAR  \n"
     ]
    }
   ],
   "source": [
    "# Print all info for games played in 1950 for Group 3\n",
    "print(df.loc[(df['Stage'] == 'Group 3') & (df['Year'] == 1950)])"
   ]
  },
  {
   "cell_type": "markdown",
   "metadata": {},
   "source": [
    "Let's repeat the command above, but now we only want to print out the attendance column for the Group 3 games. "
   ]
  },
  {
   "cell_type": "markdown",
   "metadata": {},
   "source": [
    "You can combine conditions like this:\n",
    "\n",
    "`df[(condition1) | (condition2)]`  -> Returns rows where either condition is true\n",
    "\n",
    "`df[(condition1) & (condition2)]`  -> Returns rows where both conditions are true"
   ]
  },
  {
   "cell_type": "code",
   "execution_count": 23,
   "metadata": {},
   "outputs": [
    {
     "name": "stdout",
     "output_type": "stream",
     "text": [
      "56    36502.0\n",
      "61     7903.0\n",
      "65    25811.0\n",
      "Name: Attendance, dtype: float64\n"
     ]
    }
   ],
   "source": [
    "# Print the 'Attendance' column for games played in 1950 for Group 3\n",
    "print(df.loc[(df['Stage'] == 'Group 3') & (df['Year'] == 1950), 'Attendance'])"
   ]
  },
  {
   "cell_type": "markdown",
   "metadata": {},
   "source": [
    "Throughout the entire history of the World Cup, how many home games were played by the Netherlands?"
   ]
  },
  {
   "cell_type": "code",
   "execution_count": 26,
   "metadata": {},
   "outputs": [
    {
     "data": {
      "text/plain": [
       "32"
      ]
     },
     "execution_count": 26,
     "metadata": {},
     "output_type": "execute_result"
    }
   ],
   "source": [
    "# Number of home games played by the Netherlands\n",
    "df.loc[df['Home Team Name'] == 'Netherlands'].shape[0]"
   ]
  },
  {
   "cell_type": "markdown",
   "metadata": {},
   "source": [
    "How many games were played by the Netherlands in total?"
   ]
  },
  {
   "cell_type": "code",
   "execution_count": 29,
   "metadata": {},
   "outputs": [
    {
     "data": {
      "text/plain": [
       "54"
      ]
     },
     "execution_count": 29,
     "metadata": {},
     "output_type": "execute_result"
    }
   ],
   "source": [
    "# Number of games played by the Netherlands in total\n",
    "df.loc[(df['Home Team Name'] == 'Netherlands') | (df['Away Team Name'] == 'Netherlands')].shape[0]"
   ]
  },
  {
   "cell_type": "markdown",
   "metadata": {},
   "source": [
    "Next, let's try and figure out how many games the USA played in the 2014 World Cup. "
   ]
  },
  {
   "cell_type": "code",
   "execution_count": 31,
   "metadata": {},
   "outputs": [
    {
     "data": {
      "text/plain": [
       "5"
      ]
     },
     "execution_count": 31,
     "metadata": {},
     "output_type": "execute_result"
    }
   ],
   "source": [
    "# Number of games the USA played in the 2014 world cup\n",
    "df.loc[(df['Year'] == 2014) & ((df['Home Team Name'] == 'USA') | (df['Away Team Name'] == 'USA'))].shape[0]"
   ]
  },
  {
   "cell_type": "markdown",
   "metadata": {},
   "source": [
    "Now, let's try to find out how many countries participated in the 1986 World Cup."
   ]
  },
  {
   "cell_type": "markdown",
   "metadata": {},
   "source": [
    "Hint 1: as a first step, create a new dataset that only contains games in that year.\n",
    "\n",
    "Hint 2: You can use `.unique()` to make sure you don't end up with duplicate country names."
   ]
  },
  {
   "cell_type": "code",
   "execution_count": 51,
   "metadata": {
    "scrolled": true
   },
   "outputs": [
    {
     "data": {
      "text/plain": [
       "24"
      ]
     },
     "execution_count": 51,
     "metadata": {},
     "output_type": "execute_result"
    }
   ],
   "source": [
    "# Number of countries participated in the 1986 world cup\n",
    "wc = df.loc[df['Year'] == 1986]\n",
    "wc_home = list(wc['Home Team Name'].unique())\n",
    "wc_away = list(wc['Away Team Name'].unique()) \n",
    "wc_list = wc_home + wc_away \n",
    "len(set(wc_list))"
   ]
  },
  {
   "cell_type": "markdown",
   "metadata": {},
   "source": [
    "In World Cup history, how matches had more than 5 goals in total?"
   ]
  },
  {
   "cell_type": "code",
   "execution_count": 57,
   "metadata": {},
   "outputs": [
    {
     "data": {
      "text/plain": [
       "74"
      ]
     },
     "execution_count": 57,
     "metadata": {},
     "output_type": "execute_result"
    }
   ],
   "source": [
    "# Number of matches that had more than 5 goals in total\n",
    "len(df[(df['Home Team Goals'] + df['Away Team Goals']) > 5])"
   ]
  },
  {
   "cell_type": "markdown",
   "metadata": {},
   "source": [
    "## Changing values and creating new columns"
   ]
  },
  {
   "cell_type": "markdown",
   "metadata": {},
   "source": [
    "With the information you currently have in your `df`, create a new column, \"Half-time Goals.\""
   ]
  },
  {
   "cell_type": "code",
   "execution_count": 59,
   "metadata": {},
   "outputs": [],
   "source": [
    "# Create a new column 'Half-time Goals' in df\n",
    "df['Half-time Goals'] = df['Half-time Home Goals'] + df['Half-time Away Goals']"
   ]
  },
  {
   "cell_type": "markdown",
   "metadata": {},
   "source": [
    "Run the code below. You'll notice that for Korea, there are records for both North-Korea (Korea DPR) and South-Korea (Korea Republic). "
   ]
  },
  {
   "cell_type": "code",
   "execution_count": 60,
   "metadata": {},
   "outputs": [
    {
     "data": {
      "text/plain": [
       "179         Korea DPR\n",
       "187         Korea DPR\n",
       "374    Korea Republic\n",
       "386    Korea Republic\n",
       "434    Korea Republic\n",
       "444    Korea Republic\n",
       "480    Korea Republic\n",
       "524    Korea Republic\n",
       "593    Korea Republic\n",
       "609    Korea Republic\n",
       "635    Korea Republic\n",
       "642    Korea Republic\n",
       "655    Korea Republic\n",
       "710    Korea Republic\n",
       "753         Korea DPR\n",
       "802    Korea Republic\n",
       "818    Korea Republic\n",
       "Name: Home Team Name, dtype: object"
      ]
     },
     "execution_count": 60,
     "metadata": {},
     "output_type": "execute_result"
    }
   ],
   "source": [
    "# Print all records containing the string 'Korea'\n",
    "df.loc[df['Home Team Name'].str.contains('Korea'), 'Home Team Name']"
   ]
  },
  {
   "cell_type": "markdown",
   "metadata": {},
   "source": [
    "Imagine that, for some reason, we simply want Korea listed as one entry, so we want to replace every \"Home Team Name\" and \"Away Team Name\" entry that contains \"Korea\" to simply \"Korea\". In the same way, we want to change the columns \"Home Team Initials\" and \"Away Team Initials\" to NSK (North & South Korea) instead of \"KOR\" and \"PRK\". "
   ]
  },
  {
   "cell_type": "code",
   "execution_count": 65,
   "metadata": {},
   "outputs": [],
   "source": [
    "# Update the 'Home Team Name' and 'Home Team Initials' columns \n",
    "df.loc[df['Home Team Name'].isin(['Korea DPR', 'Korea Republic']), 'Home Team Name'] = 'Korea' \n",
    "df.loc[df['Away Team Name'].isin(['Korea DPR', 'Korea Republic']), 'Away Team Name'] = 'Korea'"
   ]
  },
  {
   "cell_type": "markdown",
   "metadata": {},
   "source": [
    "Make sure to verify your answer!"
   ]
  },
  {
   "cell_type": "code",
   "execution_count": 66,
   "metadata": {},
   "outputs": [
    {
     "data": {
      "text/plain": [
       "80     Korea\n",
       "88     Korea\n",
       "171    Korea\n",
       "195    Korea\n",
       "364    Korea\n",
       "421    Korea\n",
       "464    Korea\n",
       "490    Korea\n",
       "542    Korea\n",
       "556    Korea\n",
       "625    Korea\n",
       "639    Korea\n",
       "640    Korea\n",
       "672    Korea\n",
       "691    Korea\n",
       "721    Korea\n",
       "725    Korea\n",
       "737    Korea\n",
       "742    Korea\n",
       "756    Korea\n",
       "788    Korea\n",
       "Name: Away Team Name, dtype: object"
      ]
     },
     "execution_count": 66,
     "metadata": {},
     "output_type": "execute_result"
    }
   ],
   "source": [
    "# Check the updated columns\n",
    "df.loc[df['Home Team Name'].str.contains('Korea'), 'Home Team Name']\n",
    "df.loc[df['Away Team Name'].str.contains('Korea'), 'Away Team Name']"
   ]
  },
  {
   "cell_type": "markdown",
   "metadata": {},
   "source": [
    "## Summary\n",
    "\n",
    "In this lab, you learned how to access data within Pandas!"
   ]
  }
 ],
 "metadata": {
  "kernelspec": {
   "display_name": "Python 3",
   "language": "python",
   "name": "python3"
  },
  "language_info": {
   "codemirror_mode": {
    "name": "ipython",
    "version": 3
   },
   "file_extension": ".py",
   "mimetype": "text/x-python",
   "name": "python",
   "nbconvert_exporter": "python",
   "pygments_lexer": "ipython3",
   "version": "3.7.4"
  }
 },
 "nbformat": 4,
 "nbformat_minor": 2
}
